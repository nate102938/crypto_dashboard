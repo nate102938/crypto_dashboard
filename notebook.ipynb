{
 "cells": [
  {
   "cell_type": "markdown",
   "metadata": {},
   "source": [
    "# Building a Crypto Trading Dashboard - The First Steps"
   ]
  },
  {
   "cell_type": "markdown",
   "metadata": {},
   "source": [
    "As discussed in my first blog post [here](https://nate23424533.wordpress.com/2022/11/08/my-path-to-data-science/), my initial interest in data science stemmed from my desire to build a tool to download real-time trade history for a cryptocurrency coin so that I could calculate and analyze my own trading statistics in real-time like professional traders. \n",
    "\n",
    "My second blog post, along with this notebook, attempts to the answer the following question: \n",
    "\n",
    "```\n",
    "Based on what I've learned in Phase 1, do I have the ability to build the beginnings of a Crypto Trading Dashboard that obtains, loads, and begins to analyze complete trade history for a crypto coin?\n",
    "```\n",
    "\n",
    "Click [here](https://nate23424533.wordpress.com/2022/12/05/building-a-crypto-trading-dashboard-the-first-steps/) for the related blog post.  "
   ]
  },
  {
   "cell_type": "markdown",
   "metadata": {},
   "source": [
    "## System / Notebook Preparation\n",
    "### Install necessary external packages"
   ]
  },
  {
   "cell_type": "code",
   "execution_count": 1,
   "metadata": {
    "ExecuteTime": {
     "end_time": "2022-12-10T22:13:25.976538Z",
     "start_time": "2022-12-10T22:13:23.419968Z"
    }
   },
   "outputs": [
    {
     "name": "stdout",
     "output_type": "stream",
     "text": [
      "Requirement already satisfied: gdown in c:\\users\\natek\\anaconda3\\envs\\learn-env\\lib\\site-packages (4.5.4)\n",
      "Requirement already satisfied: tqdm in c:\\users\\natek\\anaconda3\\envs\\learn-env\\lib\\site-packages (from gdown) (4.50.2)\n",
      "Requirement already satisfied: six in c:\\users\\natek\\anaconda3\\envs\\learn-env\\lib\\site-packages (from gdown) (1.15.0)\n",
      "Requirement already satisfied: requests[socks] in c:\\users\\natek\\anaconda3\\envs\\learn-env\\lib\\site-packages (from gdown) (2.28.1)\n",
      "Requirement already satisfied: beautifulsoup4 in c:\\users\\natek\\anaconda3\\envs\\learn-env\\lib\\site-packages (from gdown) (4.9.3)\n",
      "Requirement already satisfied: filelock in c:\\users\\natek\\anaconda3\\envs\\learn-env\\lib\\site-packages (from gdown) (3.8.0)\n",
      "Requirement already satisfied: urllib3<1.27,>=1.21.1 in c:\\users\\natek\\anaconda3\\envs\\learn-env\\lib\\site-packages (from requests[socks]->gdown) (1.25.10)\n",
      "Requirement already satisfied: idna<4,>=2.5 in c:\\users\\natek\\anaconda3\\envs\\learn-env\\lib\\site-packages (from requests[socks]->gdown) (2.10)\n",
      "Requirement already satisfied: certifi>=2017.4.17 in c:\\users\\natek\\anaconda3\\envs\\learn-env\\lib\\site-packages (from requests[socks]->gdown) (2022.9.24)\n",
      "Requirement already satisfied: charset-normalizer<3,>=2 in c:\\users\\natek\\anaconda3\\envs\\learn-env\\lib\\site-packages (from requests[socks]->gdown) (2.1.1)\n",
      "Requirement already satisfied: PySocks!=1.5.7,>=1.5.6; extra == \"socks\" in c:\\users\\natek\\anaconda3\\envs\\learn-env\\lib\\site-packages (from requests[socks]->gdown) (1.7.1)\n",
      "Requirement already satisfied: soupsieve>1.2; python_version >= \"3.0\" in c:\\users\\natek\\anaconda3\\envs\\learn-env\\lib\\site-packages (from beautifulsoup4->gdown) (2.0.1)\n",
      "Note: you may need to restart the kernel to use updated packages.\n"
     ]
    }
   ],
   "source": [
    "pip install gdown"
   ]
  },
  {
   "cell_type": "markdown",
   "metadata": {},
   "source": [
    "### Import necessary modules"
   ]
  },
  {
   "cell_type": "code",
   "execution_count": 1,
   "metadata": {
    "ExecuteTime": {
     "end_time": "2022-12-30T03:59:59.920344Z",
     "start_time": "2022-12-30T03:59:57.480610Z"
    }
   },
   "outputs": [],
   "source": [
    "import os\n",
    "from os.path import exists\n",
    "import gdown\n",
    "import zipfile\n",
    "import pandas as pd\n",
    "import matplotlib.pyplot as plt\n",
    "import seaborn as sns\n",
    "import matplotlib.dates as mdates\n",
    "%matplotlib inline\n",
    "import requests\n",
    "import datetime\n",
    "import json\n",
    "import time\n",
    "debugging = True\n",
    "import numpy as np"
   ]
  },
  {
   "cell_type": "markdown",
   "metadata": {},
   "source": [
    "## Download historical trade data\n",
    "\n",
    "Historical trade data is in two sources:\n",
    "- The bulk of the historical trade data is hosted on Google drive. Currently this source holds trade data from the beginning of trading of this coin on Kraken (6/17/21) to the end of Q2-2022 (6/30/22). \n",
    "- More recent trade data must be downloaded from the Kraken API.  "
   ]
  },
  {
   "cell_type": "markdown",
   "metadata": {},
   "source": [
    "### Download and load bulk trade data file from Google drive"
   ]
  },
  {
   "cell_type": "code",
   "execution_count": 2,
   "metadata": {
    "ExecuteTime": {
     "end_time": "2022-12-30T04:00:04.245293Z",
     "start_time": "2022-12-30T04:00:02.350999Z"
    },
    "scrolled": true
   },
   "outputs": [
    {
     "name": "stdout",
     "output_type": "stream",
     "text": [
      "The bulk trade data file has 5,236,388 trade records in it.\n",
      "\n"
     ]
    },
    {
     "data": {
      "text/html": [
       "<div>\n",
       "<style scoped>\n",
       "    .dataframe tbody tr th:only-of-type {\n",
       "        vertical-align: middle;\n",
       "    }\n",
       "\n",
       "    .dataframe tbody tr th {\n",
       "        vertical-align: top;\n",
       "    }\n",
       "\n",
       "    .dataframe thead th {\n",
       "        text-align: right;\n",
       "    }\n",
       "</style>\n",
       "<table border=\"1\" class=\"dataframe\">\n",
       "  <thead>\n",
       "    <tr style=\"text-align: right;\">\n",
       "      <th></th>\n",
       "      <th>date_time</th>\n",
       "      <th>price</th>\n",
       "      <th>quantity</th>\n",
       "    </tr>\n",
       "  </thead>\n",
       "  <tbody>\n",
       "    <tr>\n",
       "      <th>0</th>\n",
       "      <td>1623943977</td>\n",
       "      <td>40.23</td>\n",
       "      <td>15.453348</td>\n",
       "    </tr>\n",
       "    <tr>\n",
       "      <th>1</th>\n",
       "      <td>1623943989</td>\n",
       "      <td>40.23</td>\n",
       "      <td>5.115190</td>\n",
       "    </tr>\n",
       "    <tr>\n",
       "      <th>2</th>\n",
       "      <td>1623943993</td>\n",
       "      <td>40.23</td>\n",
       "      <td>0.300000</td>\n",
       "    </tr>\n",
       "    <tr>\n",
       "      <th>3</th>\n",
       "      <td>1623944132</td>\n",
       "      <td>40.24</td>\n",
       "      <td>8.085485</td>\n",
       "    </tr>\n",
       "    <tr>\n",
       "      <th>4</th>\n",
       "      <td>1623944135</td>\n",
       "      <td>40.24</td>\n",
       "      <td>13.596725</td>\n",
       "    </tr>\n",
       "  </tbody>\n",
       "</table>\n",
       "</div>"
      ],
      "text/plain": [
       "    date_time  price   quantity\n",
       "0  1623943977  40.23  15.453348\n",
       "1  1623943989  40.23   5.115190\n",
       "2  1623943993  40.23   0.300000\n",
       "3  1623944132  40.24   8.085485\n",
       "4  1623944135  40.24  13.596725"
      ]
     },
     "execution_count": 2,
     "metadata": {},
     "output_type": "execute_result"
    }
   ],
   "source": [
    "# Make a data directory if it doesn't exist\n",
    "if not os.path.exists(\"data\"):\n",
    "    ! mkdir data\n",
    "\n",
    "zfile = 'data/sol.zip'\n",
    "if not exists(zfile):\n",
    "    # Download the historical trades from Google file repository\n",
    "    url = 'https://drive.google.com/uc?id=1nrVrxbs7MaMHKpCObij9W-Mmq-B9QntK'\n",
    "    gdown.download(url, zfile, quiet=False)\n",
    "\n",
    "zf = zipfile.ZipFile(zfile)\n",
    "# Load the SOL-USD trade data file from the zip file\n",
    "df_bulk = pd.read_csv(zf.open(\"SOLUSD.csv\"), header=None)\n",
    "df_bulk.columns = ['date_time', 'price', 'quantity']\n",
    "print(f\"The bulk trade data file has {len(df_bulk):,} trade records in it.\\n\")\n",
    "df_bulk.head()"
   ]
  },
  {
   "cell_type": "markdown",
   "metadata": {},
   "source": [
    "#### Success\n",
    "We've successfully downloaded and loaded the bulk trade data from Google Drive into a pandas dataframe.  As discussed, the bulk data only has trades up to 6/30/22.  Next, we need to load the more recent trade history.  \n",
    "\n",
    "### Download recent trade data from Kraken API\n",
    "\n",
    "Kraken makes its recent trade history available with its API.  To download this data, you send an http request with a unix formatted date/time value in the URL.  The API responds with the first 1,000 trades from that date/time.  You can use the last date/time of this trade data to then request the next 1000 trades.  Using this method, you can loop through and download all recent trade data since the date of the last trade record you have. \n",
    "\n",
    "Example request:  https://api.kraken.com/0/public/Trades?pair=solusd&since=1624192440629160521\n",
    "\n",
    "Note that Kraken only provides a maximum of 1,000 trades in each API request, and it limits its API responses to ~1 response per second.  This forces us to pause 1 second in between each request or we will get an error.\n",
    "\n",
    "**Warning**\n",
    "\n",
    "Downloading all trade data from the date of the end of the bulk data will take 30-45 min.  However, most of this data has been downloaded and saved in a data file within the data folder named 'data/api_dat.csv' so you don't have run it for long.  Running the following cell will bring current this API data file to the most recent trade. "
   ]
  },
  {
   "cell_type": "code",
   "execution_count": 3,
   "metadata": {
    "ExecuteTime": {
     "end_time": "2022-12-30T04:02:04.810849Z",
     "start_time": "2022-12-30T04:00:07.065101Z"
    },
    "scrolled": true
   },
   "outputs": [
    {
     "name": "stdout",
     "output_type": "stream",
     "text": [
      "API data file exists.  Loading what we have, then start downloading the rest...\n",
      "\n",
      "First trade date in file:               2022-07-01 00:00:00 (1656633600.3850749)\n",
      "Last trade date in file:                2022-12-13 02:52:54 (1670899974.652272)\n",
      "Current API trade list:                 1,329,567 records\n",
      "\n",
      "Sending request:             \t\t1670899974.652272, 2022-12-13 02:52:54\n",
      "Response received:           \t\t1,000 records added\n",
      "Current API trade list:      \t\t1,330,567 records\n",
      "\n",
      "Sending request:             \t\t1670930618379866337, 2022-12-13 11:23:38\n",
      "Response received:           \t\t1,000 records added\n",
      "Current API trade list:      \t\t1,331,567 records\n",
      "\n",
      "Sending request:             \t\t1670939273058188870, 2022-12-13 13:47:53\n",
      "Response received:           \t\t1,000 records added\n",
      "Current API trade list:      \t\t1,332,567 records\n",
      "\n",
      "Sending request:             \t\t1670940936531584110, 2022-12-13 14:15:36\n",
      "Response received:           \t\t1,000 records added\n",
      "Current API trade list:      \t\t1,333,567 records\n",
      "\n",
      "Sending request:             \t\t1670953765364591611, 2022-12-13 17:49:25\n",
      "Response received:           \t\t1,000 records added\n",
      "Current API trade list:      \t\t1,334,567 records\n",
      "\n",
      "Sending request:             \t\t1670990650958793100, 2022-12-14 04:04:10\n",
      "Response received:           \t\t1,000 records added\n",
      "Current API trade list:      \t\t1,335,567 records\n",
      "\n",
      "Sending request:             \t\t1671028746773433632, 2022-12-14 14:39:06\n",
      "Response received:           \t\t1,000 records added\n",
      "Current API trade list:      \t\t1,336,567 records\n",
      "\n",
      "Sending request:             \t\t1671033919481411110, 2022-12-14 16:05:19\n",
      "Response received:           \t\t1,000 records added\n",
      "Current API trade list:      \t\t1,337,567 records\n",
      "\n",
      "Sending request:             \t\t1671043290539724187, 2022-12-14 18:41:30\n",
      "Response received:           \t\t1,000 records added\n",
      "Current API trade list:      \t\t1,338,567 records\n",
      "\n",
      "Sending request:             \t\t1671046913833179927, 2022-12-14 19:41:53\n",
      "Response received:           \t\t1,000 records added\n",
      "Current API trade list:      \t\t1,339,567 records\n",
      "\n",
      "Sending request:             \t\t1671058962542709934, 2022-12-14 23:02:42\n",
      "Response received:           \t\t1,000 records added\n",
      "Current API trade list:      \t\t1,340,567 records\n",
      "\n",
      "Sending request:             \t\t1671070161341118079, 2022-12-15 02:09:21\n",
      "Response received:           \t\t1,000 records added\n",
      "Current API trade list:      \t\t1,341,567 records\n",
      "\n",
      "Sending request:             \t\t1671097092467569369, 2022-12-15 09:38:12\n",
      "Response received:           \t\t1,000 records added\n",
      "Current API trade list:      \t\t1,342,567 records\n",
      "\n",
      "Sending request:             \t\t1671125829682855366, 2022-12-15 17:37:09\n",
      "Response received:           \t\t1,000 records added\n",
      "Current API trade list:      \t\t1,343,567 records\n",
      "\n",
      "Sending request:             \t\t1671148745554559161, 2022-12-15 23:59:05\n",
      "Response received:           \t\t1,000 records added\n",
      "Current API trade list:      \t\t1,344,567 records\n",
      "\n",
      "Sending request:             \t\t1671180884594412849, 2022-12-16 08:54:44\n",
      "Response received:           \t\t1,000 records added\n",
      "Current API trade list:      \t\t1,345,567 records\n",
      "\n",
      "Sending request:             \t\t1671197573448391495, 2022-12-16 13:32:53\n",
      "Response received:           \t\t1,000 records added\n",
      "Current API trade list:      \t\t1,346,567 records\n",
      "\n",
      "Sending request:             \t\t1671206910670092697, 2022-12-16 16:08:30\n",
      "Response received:           \t\t1,000 records added\n",
      "Current API trade list:      \t\t1,347,567 records\n",
      "\n",
      "Sending request:             \t\t1671214765984148198, 2022-12-16 18:19:25\n",
      "Response received:           \t\t1,000 records added\n",
      "Current API trade list:      \t\t1,348,567 records\n",
      "\n",
      "Sending request:             \t\t1671230311842682503, 2022-12-16 22:38:31\n",
      "Response received:           \t\t1,000 records added\n",
      "Current API trade list:      \t\t1,349,567 records\n",
      "\n",
      "Sending request:             \t\t1671233704172816551, 2022-12-16 23:35:04\n",
      "Response received:           \t\t1,000 records added\n",
      "Current API trade list:      \t\t1,350,567 records\n",
      "\n",
      "Sending request:             \t\t1671243112025921547, 2022-12-17 02:11:52\n",
      "Response received:           \t\t1,000 records added\n",
      "Current API trade list:      \t\t1,351,567 records\n",
      "\n",
      "Sending request:             \t\t1671257564425223316, 2022-12-17 06:12:44\n",
      "Response received:           \t\t1,000 records added\n",
      "Current API trade list:      \t\t1,352,567 records\n",
      "\n",
      "Sending request:             \t\t1671272278863792907, 2022-12-17 10:17:58\n",
      "Response received:           \t\t1,000 records added\n",
      "Current API trade list:      \t\t1,353,567 records\n",
      "\n",
      "Sending request:             \t\t1671286547956530961, 2022-12-17 14:15:47\n",
      "Response received:           \t\t1,000 records added\n",
      "Current API trade list:      \t\t1,354,567 records\n",
      "\n",
      "Sending request:             \t\t1671320715269282310, 2022-12-17 23:45:15\n",
      "Response received:           \t\t1,000 records added\n",
      "Current API trade list:      \t\t1,355,567 records\n",
      "\n",
      "Sending request:             \t\t1671373976272745525, 2022-12-18 14:32:56\n",
      "Response received:           \t\t1,000 records added\n",
      "Current API trade list:      \t\t1,356,567 records\n",
      "\n",
      "Sending request:             \t\t1671420352984938610, 2022-12-19 03:25:52\n",
      "Response received:           \t\t1,000 records added\n",
      "Current API trade list:      \t\t1,357,567 records\n",
      "\n",
      "Sending request:             \t\t1671467018687129407, 2022-12-19 16:23:38\n",
      "Response received:           \t\t1,000 records added\n",
      "Current API trade list:      \t\t1,358,567 records\n",
      "\n",
      "Sending request:             \t\t1671489188486720336, 2022-12-19 22:33:08\n",
      "Response received:           \t\t1,000 records added\n",
      "Current API trade list:      \t\t1,359,567 records\n",
      "\n",
      "Sending request:             \t\t1671504189071052767, 2022-12-20 02:43:09\n",
      "Response received:           \t\t1,000 records added\n",
      "Current API trade list:      \t\t1,360,567 records\n",
      "\n",
      "Sending request:             \t\t1671526370154065795, 2022-12-20 08:52:50\n",
      "Response received:           \t\t1,000 records added\n",
      "Current API trade list:      \t\t1,361,567 records\n",
      "\n",
      "Sending request:             \t\t1671569079992389030, 2022-12-20 20:44:39\n",
      "Response received:           \t\t1,000 records added\n",
      "Current API trade list:      \t\t1,362,567 records\n",
      "\n",
      "Sending request:             \t\t1671622320018289678, 2022-12-21 11:32:00\n",
      "Response received:           \t\t1,000 records added\n",
      "Current API trade list:      \t\t1,363,567 records\n",
      "\n",
      "Sending request:             \t\t1671664445429883823, 2022-12-21 23:14:05\n",
      "Response received:           \t\t1,000 records added\n",
      "Current API trade list:      \t\t1,364,567 records\n",
      "\n",
      "Sending request:             \t\t1671720803975621760, 2022-12-22 14:53:23\n",
      "Response received:           \t\t1,000 records added\n",
      "Current API trade list:      \t\t1,365,567 records\n",
      "\n",
      "Sending request:             \t\t1671743116018858809, 2022-12-22 21:05:16\n",
      "Response received:           \t\t1,000 records added\n",
      "Current API trade list:      \t\t1,366,567 records\n",
      "\n",
      "Sending request:             \t\t1671751677647233345, 2022-12-22 23:27:57\n",
      "Response received:           \t\t1,000 records added\n",
      "Current API trade list:      \t\t1,367,567 records\n",
      "\n",
      "Sending request:             \t\t1671755709847091090, 2022-12-23 00:35:09\n",
      "Response received:           \t\t1,000 records added\n",
      "Current API trade list:      \t\t1,368,567 records\n",
      "\n",
      "Sending request:             \t\t1671792585712115329, 2022-12-23 10:49:45\n",
      "Response received:           \t\t1,000 records added\n",
      "Current API trade list:      \t\t1,369,567 records\n",
      "\n",
      "Sending request:             \t\t1671833012791670333, 2022-12-23 22:03:32\n",
      "Response received:           \t\t1,000 records added\n",
      "Current API trade list:      \t\t1,370,567 records\n",
      "\n",
      "Sending request:             \t\t1671851725465950035, 2022-12-24 03:15:25\n",
      "Response received:           \t\t1,000 records added\n",
      "Current API trade list:      \t\t1,371,567 records\n",
      "\n",
      "Sending request:             \t\t1671860760937631510, 2022-12-24 05:46:00\n",
      "Response received:           \t\t1,000 records added\n",
      "Current API trade list:      \t\t1,372,567 records\n",
      "\n",
      "Sending request:             \t\t1671867646988584989, 2022-12-24 07:40:46\n",
      "Response received:           \t\t1,000 records added\n",
      "Current API trade list:      \t\t1,373,567 records\n",
      "\n",
      "Sending request:             \t\t1671904857725720465, 2022-12-24 18:00:57\n",
      "Response received:           \t\t1,000 records added\n",
      "Current API trade list:      \t\t1,374,567 records\n",
      "\n",
      "Sending request:             \t\t1671951511441003187, 2022-12-25 06:58:31\n",
      "Response received:           \t\t1,000 records added\n",
      "Current API trade list:      \t\t1,375,567 records\n",
      "\n"
     ]
    },
    {
     "name": "stdout",
     "output_type": "stream",
     "text": [
      "Sending request:             \t\t1672010889298022256, 2022-12-25 23:28:09\n",
      "Response received:           \t\t1,000 records added\n",
      "Current API trade list:      \t\t1,376,567 records\n",
      "\n",
      "Sending request:             \t\t1672061067339453890, 2022-12-26 13:24:27\n",
      "Response received:           \t\t1,000 records added\n",
      "Current API trade list:      \t\t1,377,567 records\n",
      "\n",
      "Sending request:             \t\t1672082333412361586, 2022-12-26 19:18:53\n",
      "Response received:           \t\t1,000 records added\n",
      "Current API trade list:      \t\t1,378,567 records\n",
      "\n",
      "Sending request:             \t\t1672120599810513252, 2022-12-27 05:56:39\n",
      "Response received:           \t\t1,000 records added\n",
      "Current API trade list:      \t\t1,379,567 records\n",
      "\n",
      "Sending request:             \t\t1672150011391505545, 2022-12-27 14:06:51\n",
      "Response received:           \t\t1,000 records added\n",
      "Current API trade list:      \t\t1,380,567 records\n",
      "\n",
      "Sending request:             \t\t1672156801346304755, 2022-12-27 16:00:01\n",
      "Response received:           \t\t1,000 records added\n",
      "Current API trade list:      \t\t1,381,567 records\n",
      "\n",
      "Sending request:             \t\t1672168900569205254, 2022-12-27 19:21:40\n",
      "Response received:           \t\t1,000 records added\n",
      "Current API trade list:      \t\t1,382,567 records\n",
      "\n",
      "Sending request:             \t\t1672185933647758294, 2022-12-28 00:05:33\n",
      "Response received:           \t\t1,000 records added\n",
      "Current API trade list:      \t\t1,383,567 records\n",
      "\n",
      "Sending request:             \t\t1672204497090614798, 2022-12-28 05:14:57\n",
      "Response received:           \t\t1,000 records added\n",
      "Current API trade list:      \t\t1,384,567 records\n",
      "\n",
      "Sending request:             \t\t1672206231324310122, 2022-12-28 05:43:51\n",
      "Response received:           \t\t1,000 records added\n",
      "Current API trade list:      \t\t1,385,567 records\n",
      "\n",
      "Sending request:             \t\t1672211323233413968, 2022-12-28 07:08:43\n",
      "Response received:           \t\t1,000 records added\n",
      "Current API trade list:      \t\t1,386,567 records\n",
      "\n",
      "Sending request:             \t\t1672225468970277522, 2022-12-28 11:04:28\n",
      "Response received:           \t\t1,000 records added\n",
      "Current API trade list:      \t\t1,387,567 records\n",
      "\n",
      "Sending request:             \t\t1672238621314493755, 2022-12-28 14:43:41\n",
      "Response received:           \t\t1,000 records added\n",
      "Current API trade list:      \t\t1,388,567 records\n",
      "\n",
      "Sending request:             \t\t1672247798990346881, 2022-12-28 17:16:38\n",
      "Response received:           \t\t1,000 records added\n",
      "Current API trade list:      \t\t1,389,567 records\n",
      "\n",
      "Sending request:             \t\t1672256573216013133, 2022-12-28 19:42:53\n",
      "Response received:           \t\t1,000 records added\n",
      "Current API trade list:      \t\t1,390,567 records\n",
      "\n",
      "Sending request:             \t\t1672265078485977788, 2022-12-28 22:04:38\n",
      "Response received:           \t\t1,000 records added\n",
      "Current API trade list:      \t\t1,391,567 records\n",
      "\n",
      "Sending request:             \t\t1672277880386956256, 2022-12-29 01:38:00\n",
      "Response received:           \t\t1,000 records added\n",
      "Current API trade list:      \t\t1,392,567 records\n",
      "\n",
      "Sending request:             \t\t1672303350575303102, 2022-12-29 08:42:30\n",
      "Response received:           \t\t1,000 records added\n",
      "Current API trade list:      \t\t1,393,567 records\n",
      "\n",
      "Sending request:             \t\t1672322498590819286, 2022-12-29 14:01:38\n",
      "Response received:           \t\t1,000 records added\n",
      "Current API trade list:      \t\t1,394,567 records\n",
      "\n",
      "Sending request:             \t\t1672340094680990144, 2022-12-29 18:54:54\n",
      "Response received:           \t\t1,000 records added\n",
      "Current API trade list:      \t\t1,395,567 records\n",
      "\n",
      "Sending request:             \t\t1672344646349674071, 2022-12-29 20:10:46\n",
      "Response received:           \t\t1,000 records added\n",
      "Current API trade list:      \t\t1,396,567 records\n",
      "\n",
      "Sending request:             \t\t1672346249084255912, 2022-12-29 20:37:29\n",
      "Response received:           \t\t1,000 records added\n",
      "Current API trade list:      \t\t1,397,567 records\n",
      "\n",
      "Sending request:             \t\t1672348371650879843, 2022-12-29 21:12:51\n",
      "Response received:           \t\t1,000 records added\n",
      "Current API trade list:      \t\t1,398,567 records\n",
      "\n",
      "Sending request:             \t\t1672353488322086872, 2022-12-29 22:38:08\n",
      "Response received:           \t\t1,000 records added\n",
      "Current API trade list:      \t\t1,399,567 records\n",
      "\n",
      "Sending request:             \t\t1672353598933340406, 2022-12-29 22:39:58\n",
      "Response received:           \t\t1,000 records added\n",
      "Current API trade list:      \t\t1,400,567 records\n",
      "\n",
      "Sending request:             \t\t1672354305093607104, 2022-12-29 22:51:45\n",
      "Response received:           \t\t1,000 records added\n",
      "Current API trade list:      \t\t1,401,567 records\n",
      "\n",
      "Sending request:             \t\t1672356486412769315, 2022-12-29 23:28:06\n",
      "Response received:           \t\t1,000 records added\n",
      "Current API trade list:      \t\t1,402,567 records\n",
      "\n",
      "Sending request:             \t\t1672359618838045898, 2022-12-30 00:20:18\n",
      "Response received:           \t\t1,000 records added\n",
      "Current API trade list:      \t\t1,403,567 records\n",
      "\n",
      "Sending request:             \t\t1672362239355102349, 2022-12-30 01:03:59\n",
      "Response received:           \t\t1,000 records added\n",
      "Current API trade list:      \t\t1,404,567 records\n",
      "\n",
      "Sending request:             \t\t1672368700393924637, 2022-12-30 02:51:40\n",
      "Response received:           \t\t450 records added\n",
      "Current API trade list:      \t\t1,405,017 records\n",
      "\n",
      "Sending request:             \t\t1672372898299144055, 2022-12-30 04:01:38\n",
      "Response received:           \t\t0 records added\n",
      "\n",
      "Trade data is complete. Ending process...\n"
     ]
    }
   ],
   "source": [
    "# constants\n",
    "prefix=\"https://api.kraken.com/0/public/Trades?pair=solusd&since=\"\n",
    "columns = ['price', 'quantity', 'date_time_long', \"other_1\", \"other_2\", \"other_3\", \"trade_no\"]\n",
    "API_pause = 1    # Pause duration for API calls per API documentation\n",
    "\n",
    "# Check to see if there is an api trade file in the data folder\n",
    "if not exists('data/api_data.csv'):\n",
    "    # No file\n",
    "    df_api_new = pd.DataFrame(columns=columns)\n",
    "    df_api_full = df_api_new.copy()\n",
    "    print(\"API data file doesn't exist.  Start downloading from the date of the last record from bulk data...\\n\")\n",
    "    # add microseconds to the last bulk trade trade time\n",
    "    last = str(int(df_bulk['date_time'].max() + 1))\n",
    "    last_date = datetime.datetime.utcfromtimestamp(int(last[0:10]))\n",
    "    print(\"Last trade date in bulk file:           \", last_date, \" (\", last, \")\", sep=\"\")\n",
    "    last = str(int(last))\n",
    "    print(f\"Current API trade list:        {len(df_api_full):>10,} records\\n\")\n",
    "else:\n",
    "    # Has a file - load it\n",
    "    print(\"API data file exists.  Loading what we have, then start downloading the rest...\\n\")\n",
    "    df_api_full = pd.read_csv('data/api_data.csv')\n",
    "    first = str(df_api_full['date_time_long'].min())\n",
    "    first_date = datetime.datetime.utcfromtimestamp(int(first[0:10]))\n",
    "    last = str(df_api_full['date_time_long'].max())\n",
    "    last_split = last.split(sep=\".\")\n",
    "    new_last = last_split[0] + \".\" + str(int(last_split[1].ljust(9, '0'))+1)\n",
    "    last_date = datetime.datetime.utcfromtimestamp(int(last[0:10]))\n",
    "    print(\"First trade date in file:               \", first_date, \" (\", first, \")\", sep=\"\")\n",
    "    print(\"Last trade date in file:                \", last_date, \" (\", last, \")\", sep=\"\")\n",
    "    # print(\"New Last:                       \", new_last)\n",
    "    print(f\"Current API trade list:                {len(df_api_full):>10,} records\\n\\n\", end=\"\")\n",
    "    \n",
    "# Start endless loop (ends when the data is complete/current)\n",
    "while 1:\n",
    "\n",
    "    full_url = prefix + str(last)\n",
    "    \n",
    "    # Call the web request and confirm we received it\n",
    "    print(f\"Sending request:             \\t\\t{last}, {last_date}\")\n",
    "    response = requests.get(full_url)\n",
    "    \n",
    "    # Verify that the request was successful.  \n",
    "    if response.status_code != 200:\n",
    "        print(\"\\n\\nAPI request failed. Ending process...\")\n",
    "        break\n",
    "\n",
    "    # Successful request\n",
    "    response_dict = json.loads(response.text)\n",
    "    if \"result\" not in response_dict.keys():\n",
    "        print(\"Response received:           \\t\\tNo result. Pausing 5 seconds and then continuing...\\n\")\n",
    "        time.sleep(5)\n",
    "        continue\n",
    "    \n",
    "    trades = response_dict['result']['SOLUSD']   #response will have 1 duplicate trade in it.  drop it\n",
    "    new_trade_count = len(trades)\n",
    "    \n",
    "    # if new trade data, add it to our list\n",
    "    if new_trade_count > 0:\n",
    "        # Build a new dataframe with the new trade data, and then concatenate it\n",
    "        df_api_new = pd.DataFrame(trades)\n",
    "        df_api_new.columns = columns\n",
    "        df_api_full = pd.concat([df_api_full, df_api_new], ignore_index=True)\n",
    "        \n",
    "        # Confirm trades added\n",
    "        print(f\"Response received:           \\t\\t{new_trade_count:,} records added\")\n",
    "        print(f\"Current API trade list:      \\t\\t{len(df_api_full):,} records\\n\")\n",
    "\n",
    "        # Get new last\n",
    "        last = str(int(response_dict['result']['last'])+1)\n",
    "        last_date = datetime.datetime.utcfromtimestamp(int(last[0:10]))\n",
    "        time.sleep(API_pause)\n",
    "    else:\n",
    "        print(f\"Response received:           \\t\\t{new_trade_count:,} records added\")\n",
    "        print(\"\\nTrade data is complete. Ending process...\")\n",
    "        break\n"
   ]
  },
  {
   "cell_type": "markdown",
   "metadata": {},
   "source": [
    "### Save downloaded recent trade data\n"
   ]
  },
  {
   "cell_type": "code",
   "execution_count": 4,
   "metadata": {
    "ExecuteTime": {
     "end_time": "2022-12-30T04:02:31.679612Z",
     "start_time": "2022-12-30T04:02:24.988324Z"
    }
   },
   "outputs": [],
   "source": [
    "# Drop any duplicates that may have occurred (shouldn't be any) \n",
    "df_api_full = df_api_full.drop_duplicates(keep='first')\n",
    "\n",
    "# Save it\n",
    "df_api_full.to_csv('data/api_data.csv', index=False)"
   ]
  },
  {
   "cell_type": "markdown",
   "metadata": {},
   "source": [
    "### Load recent trade data from file"
   ]
  },
  {
   "cell_type": "code",
   "execution_count": 5,
   "metadata": {
    "ExecuteTime": {
     "end_time": "2022-12-30T04:02:32.379134Z",
     "start_time": "2022-12-30T04:02:31.715626Z"
    }
   },
   "outputs": [
    {
     "data": {
      "text/html": [
       "<div>\n",
       "<style scoped>\n",
       "    .dataframe tbody tr th:only-of-type {\n",
       "        vertical-align: middle;\n",
       "    }\n",
       "\n",
       "    .dataframe tbody tr th {\n",
       "        vertical-align: top;\n",
       "    }\n",
       "\n",
       "    .dataframe thead th {\n",
       "        text-align: right;\n",
       "    }\n",
       "</style>\n",
       "<table border=\"1\" class=\"dataframe\">\n",
       "  <thead>\n",
       "    <tr style=\"text-align: right;\">\n",
       "      <th></th>\n",
       "      <th>price</th>\n",
       "      <th>quantity</th>\n",
       "      <th>date_time_long</th>\n",
       "      <th>other_1</th>\n",
       "      <th>other_2</th>\n",
       "      <th>other_3</th>\n",
       "      <th>trade_no</th>\n",
       "    </tr>\n",
       "  </thead>\n",
       "  <tbody>\n",
       "    <tr>\n",
       "      <th>0</th>\n",
       "      <td>33.73</td>\n",
       "      <td>0.296384</td>\n",
       "      <td>1.656634e+09</td>\n",
       "      <td>b</td>\n",
       "      <td>l</td>\n",
       "      <td>NaN</td>\n",
       "      <td>5238234</td>\n",
       "    </tr>\n",
       "    <tr>\n",
       "      <th>1</th>\n",
       "      <td>33.75</td>\n",
       "      <td>0.958930</td>\n",
       "      <td>1.656634e+09</td>\n",
       "      <td>b</td>\n",
       "      <td>l</td>\n",
       "      <td>NaN</td>\n",
       "      <td>5238235</td>\n",
       "    </tr>\n",
       "    <tr>\n",
       "      <th>2</th>\n",
       "      <td>33.72</td>\n",
       "      <td>53.232510</td>\n",
       "      <td>1.656634e+09</td>\n",
       "      <td>s</td>\n",
       "      <td>m</td>\n",
       "      <td>NaN</td>\n",
       "      <td>5238236</td>\n",
       "    </tr>\n",
       "    <tr>\n",
       "      <th>3</th>\n",
       "      <td>33.56</td>\n",
       "      <td>4.932385</td>\n",
       "      <td>1.656634e+09</td>\n",
       "      <td>b</td>\n",
       "      <td>l</td>\n",
       "      <td>NaN</td>\n",
       "      <td>5238237</td>\n",
       "    </tr>\n",
       "    <tr>\n",
       "      <th>4</th>\n",
       "      <td>33.57</td>\n",
       "      <td>29.097615</td>\n",
       "      <td>1.656634e+09</td>\n",
       "      <td>b</td>\n",
       "      <td>l</td>\n",
       "      <td>NaN</td>\n",
       "      <td>5238238</td>\n",
       "    </tr>\n",
       "    <tr>\n",
       "      <th>...</th>\n",
       "      <td>...</td>\n",
       "      <td>...</td>\n",
       "      <td>...</td>\n",
       "      <td>...</td>\n",
       "      <td>...</td>\n",
       "      <td>...</td>\n",
       "      <td>...</td>\n",
       "    </tr>\n",
       "    <tr>\n",
       "      <th>1405010</th>\n",
       "      <td>9.54</td>\n",
       "      <td>30.672555</td>\n",
       "      <td>1.672373e+09</td>\n",
       "      <td>s</td>\n",
       "      <td>m</td>\n",
       "      <td>NaN</td>\n",
       "      <td>6643242</td>\n",
       "    </tr>\n",
       "    <tr>\n",
       "      <th>1405011</th>\n",
       "      <td>9.54</td>\n",
       "      <td>3.165571</td>\n",
       "      <td>1.672373e+09</td>\n",
       "      <td>s</td>\n",
       "      <td>l</td>\n",
       "      <td>NaN</td>\n",
       "      <td>6643243</td>\n",
       "    </tr>\n",
       "    <tr>\n",
       "      <th>1405012</th>\n",
       "      <td>9.57</td>\n",
       "      <td>521.676114</td>\n",
       "      <td>1.672373e+09</td>\n",
       "      <td>s</td>\n",
       "      <td>l</td>\n",
       "      <td>NaN</td>\n",
       "      <td>6643244</td>\n",
       "    </tr>\n",
       "    <tr>\n",
       "      <th>1405013</th>\n",
       "      <td>9.57</td>\n",
       "      <td>0.112691</td>\n",
       "      <td>1.672373e+09</td>\n",
       "      <td>s</td>\n",
       "      <td>l</td>\n",
       "      <td>NaN</td>\n",
       "      <td>6643245</td>\n",
       "    </tr>\n",
       "    <tr>\n",
       "      <th>1405014</th>\n",
       "      <td>9.57</td>\n",
       "      <td>0.349999</td>\n",
       "      <td>1.672373e+09</td>\n",
       "      <td>s</td>\n",
       "      <td>l</td>\n",
       "      <td>NaN</td>\n",
       "      <td>6643246</td>\n",
       "    </tr>\n",
       "  </tbody>\n",
       "</table>\n",
       "<p>1405015 rows × 7 columns</p>\n",
       "</div>"
      ],
      "text/plain": [
       "         price    quantity  date_time_long other_1 other_2  other_3  trade_no\n",
       "0        33.73    0.296384    1.656634e+09       b       l      NaN   5238234\n",
       "1        33.75    0.958930    1.656634e+09       b       l      NaN   5238235\n",
       "2        33.72   53.232510    1.656634e+09       s       m      NaN   5238236\n",
       "3        33.56    4.932385    1.656634e+09       b       l      NaN   5238237\n",
       "4        33.57   29.097615    1.656634e+09       b       l      NaN   5238238\n",
       "...        ...         ...             ...     ...     ...      ...       ...\n",
       "1405010   9.54   30.672555    1.672373e+09       s       m      NaN   6643242\n",
       "1405011   9.54    3.165571    1.672373e+09       s       l      NaN   6643243\n",
       "1405012   9.57  521.676114    1.672373e+09       s       l      NaN   6643244\n",
       "1405013   9.57    0.112691    1.672373e+09       s       l      NaN   6643245\n",
       "1405014   9.57    0.349999    1.672373e+09       s       l      NaN   6643246\n",
       "\n",
       "[1405015 rows x 7 columns]"
      ]
     },
     "execution_count": 5,
     "metadata": {},
     "output_type": "execute_result"
    }
   ],
   "source": [
    "df_api_from_file_1 = pd.read_csv('data/api_data.csv')\n",
    "df_api_from_file_1"
   ]
  },
  {
   "cell_type": "code",
   "execution_count": 6,
   "metadata": {
    "ExecuteTime": {
     "end_time": "2022-12-30T04:02:34.685593Z",
     "start_time": "2022-12-30T04:02:32.424014Z"
    }
   },
   "outputs": [
    {
     "data": {
      "text/html": [
       "<div>\n",
       "<style scoped>\n",
       "    .dataframe tbody tr th:only-of-type {\n",
       "        vertical-align: middle;\n",
       "    }\n",
       "\n",
       "    .dataframe tbody tr th {\n",
       "        vertical-align: top;\n",
       "    }\n",
       "\n",
       "    .dataframe thead th {\n",
       "        text-align: right;\n",
       "    }\n",
       "</style>\n",
       "<table border=\"1\" class=\"dataframe\">\n",
       "  <thead>\n",
       "    <tr style=\"text-align: right;\">\n",
       "      <th></th>\n",
       "      <th>price</th>\n",
       "      <th>quantity</th>\n",
       "      <th>date_time</th>\n",
       "    </tr>\n",
       "  </thead>\n",
       "  <tbody>\n",
       "    <tr>\n",
       "      <th>0</th>\n",
       "      <td>33.73</td>\n",
       "      <td>0.296384</td>\n",
       "      <td>1656633600</td>\n",
       "    </tr>\n",
       "    <tr>\n",
       "      <th>1</th>\n",
       "      <td>33.75</td>\n",
       "      <td>0.958930</td>\n",
       "      <td>1656633614</td>\n",
       "    </tr>\n",
       "    <tr>\n",
       "      <th>2</th>\n",
       "      <td>33.72</td>\n",
       "      <td>53.232510</td>\n",
       "      <td>1656633622</td>\n",
       "    </tr>\n",
       "    <tr>\n",
       "      <th>3</th>\n",
       "      <td>33.56</td>\n",
       "      <td>4.932385</td>\n",
       "      <td>1656633646</td>\n",
       "    </tr>\n",
       "    <tr>\n",
       "      <th>4</th>\n",
       "      <td>33.57</td>\n",
       "      <td>29.097615</td>\n",
       "      <td>1656633646</td>\n",
       "    </tr>\n",
       "  </tbody>\n",
       "</table>\n",
       "</div>"
      ],
      "text/plain": [
       "   price   quantity   date_time\n",
       "0  33.73   0.296384  1656633600\n",
       "1  33.75   0.958930  1656633614\n",
       "2  33.72  53.232510  1656633622\n",
       "3  33.56   4.932385  1656633646\n",
       "4  33.57  29.097615  1656633646"
      ]
     },
     "execution_count": 6,
     "metadata": {},
     "output_type": "execute_result"
    }
   ],
   "source": [
    "# Make a copy of the date_time column and cut off the microseconds\n",
    "df_api_from_file_1['date_time'] = df_api_from_file_1['date_time_long'].map(lambda x: int(str(x)[0:10]))\n",
    "\n",
    "# Carve out what we need\n",
    "df_api_from_file_2 = df_api_from_file_1[['price', 'quantity', 'date_time']]\n",
    "df_api_from_file_2.head()"
   ]
  },
  {
   "cell_type": "markdown",
   "metadata": {},
   "source": [
    "### Combine bulk and recent trade data"
   ]
  },
  {
   "cell_type": "code",
   "execution_count": 7,
   "metadata": {
    "ExecuteTime": {
     "end_time": "2022-12-30T04:02:34.783611Z",
     "start_time": "2022-12-30T04:02:34.739581Z"
    }
   },
   "outputs": [
    {
     "data": {
      "text/html": [
       "<div>\n",
       "<style scoped>\n",
       "    .dataframe tbody tr th:only-of-type {\n",
       "        vertical-align: middle;\n",
       "    }\n",
       "\n",
       "    .dataframe tbody tr th {\n",
       "        vertical-align: top;\n",
       "    }\n",
       "\n",
       "    .dataframe thead th {\n",
       "        text-align: right;\n",
       "    }\n",
       "</style>\n",
       "<table border=\"1\" class=\"dataframe\">\n",
       "  <thead>\n",
       "    <tr style=\"text-align: right;\">\n",
       "      <th></th>\n",
       "      <th>date_time</th>\n",
       "      <th>price</th>\n",
       "      <th>quantity</th>\n",
       "    </tr>\n",
       "  </thead>\n",
       "  <tbody>\n",
       "    <tr>\n",
       "      <th>0</th>\n",
       "      <td>1623943977</td>\n",
       "      <td>40.23</td>\n",
       "      <td>15.453348</td>\n",
       "    </tr>\n",
       "    <tr>\n",
       "      <th>1</th>\n",
       "      <td>1623943989</td>\n",
       "      <td>40.23</td>\n",
       "      <td>5.115190</td>\n",
       "    </tr>\n",
       "    <tr>\n",
       "      <th>2</th>\n",
       "      <td>1623943993</td>\n",
       "      <td>40.23</td>\n",
       "      <td>0.300000</td>\n",
       "    </tr>\n",
       "    <tr>\n",
       "      <th>3</th>\n",
       "      <td>1623944132</td>\n",
       "      <td>40.24</td>\n",
       "      <td>8.085485</td>\n",
       "    </tr>\n",
       "    <tr>\n",
       "      <th>4</th>\n",
       "      <td>1623944135</td>\n",
       "      <td>40.24</td>\n",
       "      <td>13.596725</td>\n",
       "    </tr>\n",
       "  </tbody>\n",
       "</table>\n",
       "</div>"
      ],
      "text/plain": [
       "    date_time  price   quantity\n",
       "0  1623943977  40.23  15.453348\n",
       "1  1623943989  40.23   5.115190\n",
       "2  1623943993  40.23   0.300000\n",
       "3  1623944132  40.24   8.085485\n",
       "4  1623944135  40.24  13.596725"
      ]
     },
     "execution_count": 7,
     "metadata": {},
     "output_type": "execute_result"
    }
   ],
   "source": [
    "# Combine bulk and recent trade data data frames\n",
    "df_combined = pd.concat([df_bulk, df_api_from_file_2], ignore_index=True)\n",
    "df_combined.head()"
   ]
  },
  {
   "cell_type": "markdown",
   "metadata": {},
   "source": [
    "### Add features that can help us create visualizations\n",
    "- Extended price\n",
    "- A new column represented the date_time formated as a datetime object"
   ]
  },
  {
   "cell_type": "code",
   "execution_count": 8,
   "metadata": {
    "ExecuteTime": {
     "end_time": "2022-12-30T04:02:35.771403Z",
     "start_time": "2022-12-30T04:02:34.839179Z"
    },
    "scrolled": true
   },
   "outputs": [
    {
     "data": {
      "text/html": [
       "<div>\n",
       "<style scoped>\n",
       "    .dataframe tbody tr th:only-of-type {\n",
       "        vertical-align: middle;\n",
       "    }\n",
       "\n",
       "    .dataframe tbody tr th {\n",
       "        vertical-align: top;\n",
       "    }\n",
       "\n",
       "    .dataframe thead th {\n",
       "        text-align: right;\n",
       "    }\n",
       "</style>\n",
       "<table border=\"1\" class=\"dataframe\">\n",
       "  <thead>\n",
       "    <tr style=\"text-align: right;\">\n",
       "      <th></th>\n",
       "      <th>date_time</th>\n",
       "      <th>price</th>\n",
       "      <th>quantity</th>\n",
       "      <th>nk_date_time</th>\n",
       "      <th>ext_price</th>\n",
       "    </tr>\n",
       "  </thead>\n",
       "  <tbody>\n",
       "    <tr>\n",
       "      <th>0</th>\n",
       "      <td>1623943977</td>\n",
       "      <td>40.23</td>\n",
       "      <td>15.453348</td>\n",
       "      <td>2021-06-17 15:32:57</td>\n",
       "      <td>621.688186</td>\n",
       "    </tr>\n",
       "    <tr>\n",
       "      <th>1</th>\n",
       "      <td>1623943989</td>\n",
       "      <td>40.23</td>\n",
       "      <td>5.115190</td>\n",
       "      <td>2021-06-17 15:33:09</td>\n",
       "      <td>205.784100</td>\n",
       "    </tr>\n",
       "    <tr>\n",
       "      <th>2</th>\n",
       "      <td>1623943993</td>\n",
       "      <td>40.23</td>\n",
       "      <td>0.300000</td>\n",
       "      <td>2021-06-17 15:33:13</td>\n",
       "      <td>12.069000</td>\n",
       "    </tr>\n",
       "    <tr>\n",
       "      <th>3</th>\n",
       "      <td>1623944132</td>\n",
       "      <td>40.24</td>\n",
       "      <td>8.085485</td>\n",
       "      <td>2021-06-17 15:35:32</td>\n",
       "      <td>325.359900</td>\n",
       "    </tr>\n",
       "    <tr>\n",
       "      <th>4</th>\n",
       "      <td>1623944135</td>\n",
       "      <td>40.24</td>\n",
       "      <td>13.596725</td>\n",
       "      <td>2021-06-17 15:35:35</td>\n",
       "      <td>547.132200</td>\n",
       "    </tr>\n",
       "  </tbody>\n",
       "</table>\n",
       "</div>"
      ],
      "text/plain": [
       "    date_time  price   quantity        nk_date_time   ext_price\n",
       "0  1623943977  40.23  15.453348 2021-06-17 15:32:57  621.688186\n",
       "1  1623943989  40.23   5.115190 2021-06-17 15:33:09  205.784100\n",
       "2  1623943993  40.23   0.300000 2021-06-17 15:33:13   12.069000\n",
       "3  1623944132  40.24   8.085485 2021-06-17 15:35:32  325.359900\n",
       "4  1623944135  40.24  13.596725 2021-06-17 15:35:35  547.132200"
      ]
     },
     "execution_count": 8,
     "metadata": {},
     "output_type": "execute_result"
    }
   ],
   "source": [
    "# Make copy of that column and convert to date/time\n",
    "df_combined['nk_date_time'] = df_combined['date_time']\n",
    "df_combined['nk_date_time'] = pd.to_datetime(df_combined['nk_date_time'],unit='s')\n",
    "\n",
    "# Add extended_price\n",
    "df_combined['ext_price'] = df_combined['price'] * df_combined['quantity']\n",
    "\n",
    "# check it out\n",
    "df_combined.head()"
   ]
  },
  {
   "cell_type": "markdown",
   "metadata": {},
   "source": [
    "We can see from the cell below that there are a lot of trade records with the same date_time value.  This represents multiple trades performed within the same second.  We want to combine these records for visualizations to be accurate so that each time value only has one record. "
   ]
  },
  {
   "cell_type": "code",
   "execution_count": 9,
   "metadata": {
    "ExecuteTime": {
     "end_time": "2022-12-30T04:02:36.385817Z",
     "start_time": "2022-12-30T04:02:35.835233Z"
    }
   },
   "outputs": [
    {
     "data": {
      "text/plain": [
       "True     4311824\n",
       "False    2329579\n",
       "dtype: int64"
      ]
     },
     "execution_count": 9,
     "metadata": {},
     "output_type": "execute_result"
    }
   ],
   "source": [
    "df_combined.duplicated(subset=['date_time']).value_counts()"
   ]
  },
  {
   "cell_type": "code",
   "execution_count": 10,
   "metadata": {
    "ExecuteTime": {
     "end_time": "2022-12-30T04:02:37.495193Z",
     "start_time": "2022-12-30T04:02:36.510646Z"
    }
   },
   "outputs": [
    {
     "data": {
      "text/html": [
       "<div>\n",
       "<style scoped>\n",
       "    .dataframe tbody tr th:only-of-type {\n",
       "        vertical-align: middle;\n",
       "    }\n",
       "\n",
       "    .dataframe tbody tr th {\n",
       "        vertical-align: top;\n",
       "    }\n",
       "\n",
       "    .dataframe thead th {\n",
       "        text-align: right;\n",
       "    }\n",
       "</style>\n",
       "<table border=\"1\" class=\"dataframe\">\n",
       "  <thead>\n",
       "    <tr style=\"text-align: right;\">\n",
       "      <th></th>\n",
       "      <th>nk_date_time</th>\n",
       "      <th>ext_price</th>\n",
       "      <th>quantity</th>\n",
       "      <th>avg_price</th>\n",
       "    </tr>\n",
       "  </thead>\n",
       "  <tbody>\n",
       "    <tr>\n",
       "      <th>0</th>\n",
       "      <td>2021-06-17 15:32:57</td>\n",
       "      <td>621.688186</td>\n",
       "      <td>15.453348</td>\n",
       "      <td>40.23</td>\n",
       "    </tr>\n",
       "    <tr>\n",
       "      <th>1</th>\n",
       "      <td>2021-06-17 15:33:09</td>\n",
       "      <td>205.784100</td>\n",
       "      <td>5.115190</td>\n",
       "      <td>40.23</td>\n",
       "    </tr>\n",
       "    <tr>\n",
       "      <th>2</th>\n",
       "      <td>2021-06-17 15:33:13</td>\n",
       "      <td>12.069000</td>\n",
       "      <td>0.300000</td>\n",
       "      <td>40.23</td>\n",
       "    </tr>\n",
       "    <tr>\n",
       "      <th>3</th>\n",
       "      <td>2021-06-17 15:35:32</td>\n",
       "      <td>325.359900</td>\n",
       "      <td>8.085485</td>\n",
       "      <td>40.24</td>\n",
       "    </tr>\n",
       "    <tr>\n",
       "      <th>4</th>\n",
       "      <td>2021-06-17 15:35:35</td>\n",
       "      <td>547.132200</td>\n",
       "      <td>13.596725</td>\n",
       "      <td>40.24</td>\n",
       "    </tr>\n",
       "  </tbody>\n",
       "</table>\n",
       "</div>"
      ],
      "text/plain": [
       "         nk_date_time   ext_price   quantity  avg_price\n",
       "0 2021-06-17 15:32:57  621.688186  15.453348      40.23\n",
       "1 2021-06-17 15:33:09  205.784100   5.115190      40.23\n",
       "2 2021-06-17 15:33:13   12.069000   0.300000      40.23\n",
       "3 2021-06-17 15:35:32  325.359900   8.085485      40.24\n",
       "4 2021-06-17 15:35:35  547.132200  13.596725      40.24"
      ]
     },
     "execution_count": 10,
     "metadata": {},
     "output_type": "execute_result"
    }
   ],
   "source": [
    "# Group by time value (seconds)\n",
    "df_combined_g_s = df_combined.groupby('nk_date_time')[['ext_price', 'quantity']].agg(['sum'])\n",
    "\n",
    "df_combined_g_s['avg_price'] = df_combined_g_s['ext_price'] / df_combined_g_s['quantity']\n",
    "df_combined_g_s.reset_index(inplace=True)\n",
    "df_combined_g_s.columns = ['nk_date_time', 'ext_price', 'quantity', 'avg_price']\n",
    "df_combined_g_s.head()"
   ]
  },
  {
   "cell_type": "code",
   "execution_count": 11,
   "metadata": {
    "ExecuteTime": {
     "end_time": "2022-12-30T04:02:37.562925Z",
     "start_time": "2022-12-30T04:02:37.551278Z"
    }
   },
   "outputs": [
    {
     "data": {
      "text/plain": [
       "2329579"
      ]
     },
     "execution_count": 11,
     "metadata": {},
     "output_type": "execute_result"
    }
   ],
   "source": [
    "len(df_combined_g_s)"
   ]
  },
  {
   "cell_type": "markdown",
   "metadata": {},
   "source": [
    "**Use Pandas Grouping to analyze data using different time intervals**\n",
    "\n",
    "As you can see, grouping by second reduced the number of rows by almost two-third (from 6 million to 2 million), while the trade data is still highly detailed to the time period it relates.  In reality, we aren't at the point of analyzing trade data by seconds yet.  Let's group by days and months to visualize some high level trends."
   ]
  },
  {
   "cell_type": "code",
   "execution_count": 12,
   "metadata": {
    "ExecuteTime": {
     "end_time": "2022-12-30T04:02:37.879114Z",
     "start_time": "2022-12-30T04:02:37.627988Z"
    }
   },
   "outputs": [],
   "source": [
    "# Group by day\n",
    "df_combined_g_d = df_combined_g_s.groupby(pd.Grouper(key='nk_date_time', freq='d'))[['ext_price', 'quantity']].agg('sum')\n",
    "df_combined_g_d['avg_price'] = df_combined_g_d['ext_price'] / df_combined_g_d['quantity']\n",
    "df_combined_g_d.reset_index(inplace=True)\n",
    "df_combined_g_d.columns = ['nk_date_time', 'ext_price', 'quantity', 'avg_price']\n",
    "\n",
    "# Group by month\n",
    "df_combined_g_m = df_combined_g_s.groupby(pd.Grouper(key='nk_date_time', freq='m'))[['ext_price', 'quantity']].agg('sum')\n",
    "df_combined_g_m['avg_price'] = df_combined_g_m['ext_price'] / df_combined_g_m['quantity']\n",
    "df_combined_g_m.reset_index(inplace=True)\n",
    "df_combined_g_m.columns = ['nk_date_time', 'ext_price', 'quantity', 'avg_price']"
   ]
  },
  {
   "cell_type": "markdown",
   "metadata": {},
   "source": [
    "## Visualize the trade data"
   ]
  },
  {
   "cell_type": "markdown",
   "metadata": {},
   "source": [
    "Visualize daily average price and volume history"
   ]
  },
  {
   "cell_type": "code",
   "execution_count": 13,
   "metadata": {
    "ExecuteTime": {
     "end_time": "2022-12-30T04:02:38.629277Z",
     "start_time": "2022-12-30T04:02:37.950390Z"
    }
   },
   "outputs": [
    {
     "data": {
      "image/png": "[encoded data removed]",
      "text/plain": [
       "<Figure size 1080x504 with 2 Axes>"
      ]
     },
     "metadata": {},
     "output_type": "display_data"
    }
   ],
   "source": [
    "min_trade_date = df_combined_g_d.nk_date_time.min()\n",
    "max_trade_date = df_combined_g_d.nk_date_time.max()\n",
    "\n",
    "sns.set(style=\"darkgrid\")\n",
    "fig, ax = plt.subplots(figsize=(15, 7))\n",
    "\n",
    "new_title = \"Daily Average Price/Volume History: Solana (SOL-USD)\\n\"\n",
    "new_title = new_title + min_trade_date.strftime('%m/%d/%y') + \" - \" + max_trade_date.strftime('%m/%d/%y')\n",
    "ax.set_title(new_title, fontsize=14)\n",
    "\n",
    "x = df_combined_g_d['nk_date_time'] #tr.strftime(\"%m-%y\")\n",
    "y = df_combined_g_d['avg_price']\n",
    "ax.set_ylabel(\"Average price (USD)\", fontsize=14, labelpad=20)\n",
    "ax.set_xlabel(\"Date\", fontsize=14, labelpad=18)\n",
    "ax.tick_params(axis='both', which='major', labelsize=12)\n",
    "ax.tick_params(axis='both', which='minor', labelsize=12)\n",
    "ax.yaxis.set_major_formatter('${x:,.0f}')\n",
    "myFmt = mdates.DateFormatter('%m/%d/%y')\n",
    "ax.xaxis.set_major_formatter(myFmt)\n",
    "sns.lineplot(x=x,y=y,ci=None, ax=ax, alpha=.7, label='Average price');\n",
    "\n",
    "ax2=ax.twinx()\n",
    "x=df_combined_g_d['nk_date_time']\n",
    "y=df_combined_g_d['ext_price']\n",
    "ax2.set_ylabel(\"Trade Volume (USD)\", fontsize=14, labelpad=20)\n",
    "ax2.tick_params(axis='both', which='major', labelsize=12)\n",
    "ax2.tick_params(axis='both', which='minor', labelsize=12)\n",
    "ax2.yaxis.set_major_formatter('${x:,.0f}')\n",
    "sns.lineplot(x=x,y=y,ci=None, ax=ax2, color='green', alpha=.7, label='Volume');\n",
    "\n",
    "ax.legend_.remove()\n",
    "ax2.legend_.remove()\n",
    "fig.legend(loc=\"upper right\", bbox_to_anchor=(1,1), bbox_transform=ax.transAxes);\n"
   ]
  },
  {
   "cell_type": "markdown",
   "metadata": {},
   "source": [
    "Visualize trade volume history by month"
   ]
  },
  {
   "cell_type": "code",
   "execution_count": 14,
   "metadata": {
    "ExecuteTime": {
     "end_time": "2022-12-30T04:02:45.577731Z",
     "start_time": "2022-12-30T04:02:45.240858Z"
    }
   },
   "outputs": [
    {
     "data": {
      "image/png": "[encoded data removed]",
      "text/plain": [
       "<Figure size 1080x504 with 1 Axes>"
      ]
     },
     "metadata": {},
     "output_type": "display_data"
    }
   ],
   "source": [
    "min_trade_date = df_combined_g_d.nk_date_time.min()\n",
    "max_trade_date = df_combined_g_d.nk_date_time.max()\n",
    "\n",
    "months = df_combined_g_m['nk_date_time'].tolist()\n",
    "months = [x.strftime('%b-%y') for x in months]\n",
    "\n",
    "sns.set(style=\"darkgrid\")\n",
    "fig, ax = plt.subplots(figsize=(15, 7))\n",
    "sns.barplot(data=df_combined_g_m,x=months,y=\"ext_price\",ci=None, ax=ax);\n",
    "new_title = \"Monthly Total Trade Volume: Solana (SOL-USD)\\n\"\n",
    "new_title = new_title + min_trade_date.strftime('%m/%d/%y') + \" - \" + max_trade_date.strftime('%m/%d/%y')\n",
    "ax.set_title(new_title, fontsize=14)\n",
    "ax.set_ylabel(\"Volume (USD)\", fontsize=14, labelpad=20)\n",
    "ax.set_xlabel(\"Date\", fontsize=14, labelpad=18)\n",
    "ax.tick_params(axis='both', which='major', labelsize=12)\n",
    "ax.tick_params(axis='both', which='minor', labelsize=12)\n",
    "ax.yaxis.set_major_formatter('${x:,.0f}')\n",
    "#myFmt = mdates.DateFormatter('%m/%y')\n",
    "#ax.xaxis.set_major_formatter(myFmt)\n",
    "ax.set_xticklabels(ax.get_xticklabels(), rotation=90);"
   ]
  },
  {
   "cell_type": "markdown",
   "metadata": {},
   "source": [
    "## Conclusions\n",
    "\n",
    "### Data Conclusions\n",
    "\n",
    "From the visualizations below, we notice that: \n",
    "\n",
    "- The value of Solana is down significantly from its all time highs of around $250. \n",
    "- Even in the downward trend since November 2021, there are periods where prices spike up - indicating an opportunity for short-term profits. \n",
    "- Trade volume of Solana has also trended down.  \n",
    "- Trade volume tends to spike when the price is changing more quickly, whether the price is going up or down.  This could possibly be used as a differentiator between meaningful and less meaningful price fluctuations. \n",
    "\n",
    "### Blog Conclusions\n",
    "Going back to the question posed in the introduction of this notebook: \n",
    "\n",
    "```\n",
    "Based on what I've learned in Phase 1, do I have the ability to build the beginnings of a Crypto Trading Dashboard that obtains, loads, and begins to analyze complete trade history for a crypto coin?\n",
    "```\n",
    "As demonstrated, the answer is ***Yes***. \n",
    "\n",
    "**Next steps:**\n",
    "\n",
    "In the future, I can:\n",
    "1. Identify statistics that are most relevant to real-time trade analysis and create code to calculate these statistics, \n",
    "2. Transition from a **'download then analyze'** approach to a **'download and analyze continously'** approach.\n"
   ]
  },
  {
   "cell_type": "code",
   "execution_count": null,
   "metadata": {},
   "outputs": [],
   "source": []
  }
 ],
 "metadata": {
  "hide_input": false,
  "kernelspec": {
   "display_name": "Python 3",
   "language": "python",
   "name": "python3"
  },
  "language_info": {
   "codemirror_mode": {
    "name": "ipython",
    "version": 3
   },
   "file_extension": ".py",
   "mimetype": "text/x-python",
   "name": "python",
   "nbconvert_exporter": "python",
   "pygments_lexer": "ipython3",
   "version": "3.8.5"
  },
  "toc": {
   "base_numbering": 1,
   "nav_menu": {},
   "number_sections": true,
   "sideBar": true,
   "skip_h1_title": false,
   "title_cell": "Table of Contents",
   "title_sidebar": "Contents",
   "toc_cell": false,
   "toc_position": {},
   "toc_section_display": true,
   "toc_window_display": false
  },
  "varInspector": {
   "cols": {
    "lenName": 16,
    "lenType": 16,
    "lenVar": 40
   },
   "kernels_config": {
    "python": {
     "delete_cmd_postfix": "",
     "delete_cmd_prefix": "del ",
     "library": "var_list.py",
     "varRefreshCmd": "print(var_dic_list())"
    },
    "r": {
     "delete_cmd_postfix": ") ",
     "delete_cmd_prefix": "rm(",
     "library": "var_list.r",
     "varRefreshCmd": "cat(var_dic_list()) "
    }
   },
   "types_to_exclude": [
    "module",
    "function",
    "builtin_function_or_method",
    "instance",
    "_Feature"
   ],
   "window_display": false
  }
 },
 "nbformat": 4,
 "nbformat_minor": 4
}
